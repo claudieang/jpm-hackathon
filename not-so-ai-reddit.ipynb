{
 "cells": [
  {
   "cell_type": "code",
   "execution_count": 38,
   "metadata": {},
   "outputs": [],
   "source": [
    "import getpass\n",
    "import pandas as pd\n",
    "import datetime as dt\n",
    "import codecs\n",
    "import csv\n",
    "\n",
    "import praw\n",
    "from psaw import PushshiftAPI\n",
    "\n",
    "import threading\n",
    "import time\n",
    "\n",
    "client_id = 'lcqab6e3hsHHow' #client id\n",
    "client_secret = 'j_vQlGo17zcAKWyAnAgNmge74Gc' # secret\n",
    "user_agent = 'not-so-ai' #reddit app name\n",
    "username = 'clawdeeeee' #reddit username\n",
    "# password = getpass.getpass(\"Password :: \") #reddit password\n",
    "password = '#############'"
   ]
  },
  {
   "cell_type": "code",
   "execution_count": 32,
   "metadata": {},
   "outputs": [],
   "source": [
    "api = PushshiftAPI()"
   ]
  },
  {
   "cell_type": "code",
   "execution_count": 72,
   "metadata": {},
   "outputs": [],
   "source": [
    "def searchByKeyWord(keyword, year):\n",
    "\n",
    "    topics_dict = { \"id\":[], \\\n",
    "                    \"body\":[], \\\n",
    "                    \"subreddit\":[], \\\n",
    "                    \"author\":[], \\\n",
    "                    \"score\":[], \\\n",
    "                    \"created\": [], \\\n",
    "                  }\n",
    "\n",
    "    start_epoch = int(dt.datetime(year,1,1).timestamp())\n",
    "    \n",
    "    comments = api.search_comments(after = start_epoch, q = keyword)\n",
    "\n",
    "    for comment in comments:\n",
    "\n",
    "        newdate = dt.datetime.fromtimestamp(comment.created_utc)\n",
    "\n",
    "        topics_dict[\"id\"].append(comment.id)\n",
    "        topics_dict[\"subreddit\"].append(comment.subreddit)\n",
    "        topics_dict[\"created\"].append(newdate)\n",
    "        topics_dict[\"author\"].append(comment.author)\n",
    "        topics_dict[\"score\"].append(comment.score)\n",
    "        topics_dict[\"body\"].append(comment.body)\n",
    "\n",
    "    submissions = api.search_submissions(after = start_epoch, q= keyword)\n",
    "\n",
    "    for sub in submissions:\n",
    "        newdate = dt.datetime.fromtimestamp(sub.created_utc)\n",
    "\n",
    "        topics_dict[\"id\"].append(sub.id)\n",
    "        topics_dict[\"subreddit\"].append(sub.subreddit if hasattr(sub, 'subreddit') else '-')\n",
    "        topics_dict[\"created\"].append(newdate)\n",
    "        topics_dict[\"author\"].append(sub.author if hasattr(sub, 'author') else '-')\n",
    "        topics_dict[\"score\"].append(sub.score)\n",
    "        topics_dict[\"body\"].append(sub.title + ' ' + sub.url)\n",
    "\n",
    "\n",
    "    topics_data = pd.DataFrame(topics_dict)\n",
    "    topics_data\n",
    "\n",
    "\n",
    "    topics_data.to_csv(keyword + '.csv', encoding='utf-8', index=False)"
   ]
  },
  {
   "cell_type": "code",
   "execution_count": 77,
   "metadata": {},
   "outputs": [],
   "source": [
    "# jpm_keywords=['jpm','jpmchase','jpmorganchase','jpmorgan', 'jp.morgan', 'jamie dimon', 'jpmc', 'jp morgan', ]\n",
    "jpm_keywords = ['jp morgan']\n",
    "for key in jpm_keywords:\n",
    "    searchByKeyWord(key, 1970)\n"
   ]
  },
  {
   "cell_type": "code",
   "execution_count": 57,
   "metadata": {},
   "outputs": [
    {
     "name": "stdout",
     "output_type": "stream",
     "text": [
      "Main    : create and start thread --- %s. jpm\n",
      "Getting keyword jpm\n",
      "Main    : create and start thread --- %s. jpmchase\n",
      "Getting keyword jpmchase\n",
      "Main    : create and start thread --- %s. jpmorganchase\n",
      "Getting keyword jpmorganchase\n",
      "Main    : create and start thread --- %s. jpmorgan\n",
      "Getting keyword jpmorganMain    : create and start thread --- %s. jp.morgan\n",
      "Getting keyword jp.morganMain    : create and start thread --- %s. jamie dimon\n",
      "\n",
      "Getting keyword jamie dimon\n",
      "\n",
      "Main    : before joining thread %d. 0\n",
      "elapsed_time for keyword: jpmchase for time 00:00:06\n",
      "\n",
      "elapsed_time for keyword: jp.morgan for time 00:00:06\n",
      "\n",
      "elapsed_time for keyword: jpmorganchase for time 00:00:15\n",
      "\n"
     ]
    },
    {
     "name": "stderr",
     "output_type": "stream",
     "text": [
      "Exception in thread Thread-35:\n",
      "Traceback (most recent call last):\n",
      "  File \"/anaconda/lib/python3.6/threading.py\", line 916, in _bootstrap_inner\n",
      "    self.run()\n",
      "  File \"/anaconda/lib/python3.6/threading.py\", line 864, in run\n",
      "    self._target(*self._args, **self._kwargs)\n",
      "  File \"<ipython-input-57-58770935f08d>\", line 8, in start_thread\n",
      "    searchByKeyWord(k, 1970)\n",
      "  File \"<ipython-input-54-08bc562df402>\", line 26, in searchByKeyWord\n",
      "    topics_dict[\"subreddit\"].append(sub.subreddit)\n",
      "AttributeError: 'submission' object has no attribute 'subreddit'\n",
      "\n"
     ]
    },
    {
     "name": "stdout",
     "output_type": "stream",
     "text": [
      "Main    : thread %d done 0\n",
      "elapsed_time for keyword: END OF PROGRAM for time 00:03:05\n",
      "Main    : before joining thread %d. 1\n",
      "Main    : thread %d done 1\n",
      "elapsed_time for keyword: END OF PROGRAM for time 00:03:05\n",
      "Main    : before joining thread %d. 2\n",
      "Main    : thread %d done 2\n",
      "elapsed_time for keyword: END OF PROGRAM for time 00:03:05\n",
      "Main    : before joining thread %d. 3\n"
     ]
    },
    {
     "name": "stderr",
     "output_type": "stream",
     "text": [
      "Exception in thread Thread-40:\n",
      "Traceback (most recent call last):\n",
      "  File \"/anaconda/lib/python3.6/threading.py\", line 916, in _bootstrap_inner\n",
      "    self.run()\n",
      "  File \"/anaconda/lib/python3.6/threading.py\", line 864, in run\n",
      "    self._target(*self._args, **self._kwargs)\n",
      "  File \"<ipython-input-57-58770935f08d>\", line 8, in start_thread\n",
      "    searchByKeyWord(k, 1970)\n",
      "  File \"<ipython-input-54-08bc562df402>\", line 26, in searchByKeyWord\n",
      "    topics_dict[\"subreddit\"].append(sub.subreddit)\n",
      "AttributeError: 'submission' object has no attribute 'subreddit'\n",
      "\n"
     ]
    },
    {
     "name": "stdout",
     "output_type": "stream",
     "text": [
      "Main    : thread %d done 3\n",
      "elapsed_time for keyword: END OF PROGRAM for time 00:03:29\n",
      "Main    : before joining thread %d. 4\n",
      "Main    : thread %d done 4\n",
      "elapsed_time for keyword: END OF PROGRAM for time 00:03:29\n",
      "Main    : before joining thread %d. 5\n",
      "Main    : thread %d done 5\n",
      "elapsed_time for keyword: END OF PROGRAM for time 00:03:29\n"
     ]
    },
    {
     "name": "stderr",
     "output_type": "stream",
     "text": [
      "Exception in thread Thread-38:\n",
      "Traceback (most recent call last):\n",
      "  File \"/anaconda/lib/python3.6/threading.py\", line 916, in _bootstrap_inner\n",
      "    self.run()\n",
      "  File \"/anaconda/lib/python3.6/threading.py\", line 864, in run\n",
      "    self._target(*self._args, **self._kwargs)\n",
      "  File \"<ipython-input-57-58770935f08d>\", line 8, in start_thread\n",
      "    searchByKeyWord(k, 1970)\n",
      "  File \"<ipython-input-54-08bc562df402>\", line 26, in searchByKeyWord\n",
      "    topics_dict[\"subreddit\"].append(sub.subreddit)\n",
      "AttributeError: 'submission' object has no attribute 'subreddit'\n",
      "\n"
     ]
    }
   ],
   "source": [
    "def start_thread(k):\n",
    "    start_time = time.time()\n",
    "    print ('Getting keyword %s' % k)\n",
    "#     d = datetime.today()\n",
    "#     while (datetime(2015,01,01) < d):\n",
    "#         end = (d - timedelta(days=30)).strftime('%Y-%m-%d')\n",
    "#         start = d.strftime('%Y-%m-%d')\n",
    "    searchByKeyWord(k, 1970)\n",
    "#         d = d - timedelta(days=31)\n",
    "\n",
    "    elapsed_time = time.time() - start_time\n",
    "    print ('elapsed_time for keyword: %s for time %s' % (k,time.strftime(\"%H:%M:%S\",time.gmtime(elapsed_time))))\n",
    "    print ('')\n",
    "\n",
    "start_time = time.time()\n",
    "\n",
    "threads = list()\n",
    "\n",
    "for k in jpm_keywords:\n",
    "    print (\"Main    : create and start thread --- %s.\", k)\n",
    "    x = threading.Thread(target=start_thread, args=(k,))\n",
    "    x.daemon = True\n",
    "    threads.append(x)\n",
    "    x.start()\n",
    "    \n",
    "    \n",
    "for index, thread in enumerate(threads):\n",
    "    print(\"Main    : before joining thread %d.\", index)\n",
    "    thread.join()\n",
    "    print(\"Main    : thread %d done\", index)\n",
    "    print ('elapsed_time for keyword: %s for time %s' % (\"END OF PROGRAM\", time.strftime(\"%H:%M:%S\", time.gmtime(time.time() - start_time))))\n"
   ]
  },
  {
   "cell_type": "code",
   "execution_count": null,
   "metadata": {},
   "outputs": [],
   "source": []
  }
 ],
 "metadata": {
  "kernelspec": {
   "display_name": "Python 3",
   "language": "python",
   "name": "python3"
  },
  "language_info": {
   "codemirror_mode": {
    "name": "ipython",
    "version": 3
   },
   "file_extension": ".py",
   "mimetype": "text/x-python",
   "name": "python",
   "nbconvert_exporter": "python",
   "pygments_lexer": "ipython3",
   "version": "3.6.4"
  }
 },
 "nbformat": 4,
 "nbformat_minor": 2
}
