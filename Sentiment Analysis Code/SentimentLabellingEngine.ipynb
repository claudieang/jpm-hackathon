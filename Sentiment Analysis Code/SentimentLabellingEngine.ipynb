{
 "cells": [
  {
   "cell_type": "code",
   "execution_count": null,
   "metadata": {
    "collapsed": true
   },
   "outputs": [],
   "source": []
  },
  {
   "cell_type": "code",
   "execution_count": 1,
   "metadata": {
    "collapsed": true
   },
   "outputs": [],
   "source": [
    "from sklearn.externals import joblib\n",
    "\n",
    "clf_load = joblib.load('MultinomialNB.pkl')\n",
    "\n",
    "#Load Twitter\n"
   ]
  },
  {
   "cell_type": "code",
   "execution_count": null,
   "metadata": {
    "collapsed": true
   },
   "outputs": [],
   "source": []
  },
  {
   "cell_type": "code",
   "execution_count": 4,
   "metadata": {},
   "outputs": [
    {
     "name": "stderr",
     "output_type": "stream",
     "text": [
      "C:\\Continuum\\anaconda3\\lib\\site-packages\\IPython\\core\\interactiveshell.py:2698: DtypeWarning: Columns (5,6,7,8,9,10) have mixed types. Specify dtype option on import or set low_memory=False.\n",
      "  interactivity=interactivity, compiler=compiler, result=result)\n"
     ]
    }
   ],
   "source": [
    "import pandas as pd\n",
    "\n",
    "twitter1 = pd.read_csv(\"./data/jpm-12Aug17-2015-clean.csv\", encoding='utf-8')\n",
    "twitter2 = pd.read_csv(\"./data/jpm-today-12Aug17-clean.csv\", encoding='utf-8')\n",
    "reddit = pd.read_csv(\"./data/reddit-cleaning.csv\", encoding='utf-8')"
   ]
  },
  {
   "cell_type": "code",
   "execution_count": 5,
   "metadata": {},
   "outputs": [
    {
     "data": {
      "text/html": [
       "<div>\n",
       "<style>\n",
       "    .dataframe thead tr:only-child th {\n",
       "        text-align: right;\n",
       "    }\n",
       "\n",
       "    .dataframe thead th {\n",
       "        text-align: left;\n",
       "    }\n",
       "\n",
       "    .dataframe tbody tr th {\n",
       "        vertical-align: top;\n",
       "    }\n",
       "</style>\n",
       "<table border=\"1\" class=\"dataframe\">\n",
       "  <thead>\n",
       "    <tr style=\"text-align: right;\">\n",
       "      <th></th>\n",
       "      <th>author</th>\n",
       "      <th>body</th>\n",
       "      <th>created</th>\n",
       "      <th>id</th>\n",
       "      <th>score</th>\n",
       "      <th>subreddit</th>\n",
       "    </tr>\n",
       "  </thead>\n",
       "  <tbody>\n",
       "    <tr>\n",
       "      <th>0</th>\n",
       "      <td>Ganamaa</td>\n",
       "      <td>Can any of us buy JPM? If not, why is this here?</td>\n",
       "      <td>2019-06-26 09:50:39</td>\n",
       "      <td>es24ppb</td>\n",
       "      <td>1</td>\n",
       "      <td>CryptoCurrency</td>\n",
       "    </tr>\n",
       "    <tr>\n",
       "      <th>1</th>\n",
       "      <td>legitcreed444</td>\n",
       "      <td>With a bold statement like that and the confid...</td>\n",
       "      <td>2019-06-26 08:00:32</td>\n",
       "      <td>es1vyyd</td>\n",
       "      <td>1</td>\n",
       "      <td>stocks</td>\n",
       "    </tr>\n",
       "    <tr>\n",
       "      <th>2</th>\n",
       "      <td>investorH</td>\n",
       "      <td>Fuck..rip my MU rips..should've inversed WSB.....</td>\n",
       "      <td>2019-06-26 07:30:40</td>\n",
       "      <td>es1tlut</td>\n",
       "      <td>1</td>\n",
       "      <td>wallstreetbets</td>\n",
       "    </tr>\n",
       "    <tr>\n",
       "      <th>3</th>\n",
       "      <td>Blooder91</td>\n",
       "      <td>2001 was different since DC was pretty close t...</td>\n",
       "      <td>2019-06-26 04:56:55</td>\n",
       "      <td>es1gdzp</td>\n",
       "      <td>1</td>\n",
       "      <td>formula1</td>\n",
       "    </tr>\n",
       "    <tr>\n",
       "      <th>4</th>\n",
       "      <td>juanprada</td>\n",
       "      <td>I'm a simple man. I see JPM, I upvote.</td>\n",
       "      <td>2019-06-26 02:37:30</td>\n",
       "      <td>es12heg</td>\n",
       "      <td>1</td>\n",
       "      <td>formula1</td>\n",
       "    </tr>\n",
       "  </tbody>\n",
       "</table>\n",
       "</div>"
      ],
      "text/plain": [
       "          author                                               body  \\\n",
       "0        Ganamaa   Can any of us buy JPM? If not, why is this here?   \n",
       "1  legitcreed444  With a bold statement like that and the confid...   \n",
       "2      investorH  Fuck..rip my MU rips..should've inversed WSB.....   \n",
       "3      Blooder91  2001 was different since DC was pretty close t...   \n",
       "4      juanprada             I'm a simple man. I see JPM, I upvote.   \n",
       "\n",
       "               created       id score       subreddit  \n",
       "0  2019-06-26 09:50:39  es24ppb     1  CryptoCurrency  \n",
       "1  2019-06-26 08:00:32  es1vyyd     1          stocks  \n",
       "2  2019-06-26 07:30:40  es1tlut     1  wallstreetbets  \n",
       "3  2019-06-26 04:56:55  es1gdzp     1        formula1  \n",
       "4  2019-06-26 02:37:30  es12heg     1        formula1  "
      ]
     },
     "execution_count": 5,
     "metadata": {},
     "output_type": "execute_result"
    }
   ],
   "source": [
    "reddit.head()"
   ]
  },
  {
   "cell_type": "code",
   "execution_count": 8,
   "metadata": {},
   "outputs": [],
   "source": [
    "twitter1_predicted = clf_load.predict(twitter1['text'])\n",
    "twitter2_predicted = clf_load.predict(twitter1['text'])\n"
   ]
  },
  {
   "cell_type": "code",
   "execution_count": 15,
   "metadata": {},
   "outputs": [],
   "source": [
    "import numpy as np\n",
    "reddit_clean = reddit[pd.notnull(reddit['body'])]\n"
   ]
  },
  {
   "cell_type": "code",
   "execution_count": 17,
   "metadata": {},
   "outputs": [],
   "source": [
    "reddit_predicted = clf_load.predict(reddit_clean['body'])\n"
   ]
  },
  {
   "cell_type": "code",
   "execution_count": 19,
   "metadata": {},
   "outputs": [],
   "source": [
    "twitter1_output = pd.concat([twitter1, pd.DataFrame(twitter1_predicted)], axis=1)\n",
    "twitter2_output = pd.concat([twitter2, pd.DataFrame(twitter2_predicted)], axis=1)\n",
    "reddit_clean_output = pd.concat([reddit_clean, pd.DataFrame(reddit_predicted)], axis=1)"
   ]
  },
  {
   "cell_type": "code",
   "execution_count": 23,
   "metadata": {},
   "outputs": [],
   "source": [
    "twitter1_output.to_csv('./output/twitter1_output.csv', encoding = 'utf-8')\n",
    "twitter2_output.to_csv('./output/twitter2_output.csv', encoding = 'utf-8')\n",
    "reddit_clean_output.to_csv('./output/reddit_clean_output.csv', encoding = 'utf-8')"
   ]
  }
 ],
 "metadata": {
  "kernelspec": {
   "display_name": "Python 3",
   "language": "python",
   "name": "python3"
  },
  "language_info": {
   "codemirror_mode": {
    "name": "ipython",
    "version": 3
   },
   "file_extension": ".py",
   "mimetype": "text/x-python",
   "name": "python",
   "nbconvert_exporter": "python",
   "pygments_lexer": "ipython3",
   "version": "3.6.2"
  }
 },
 "nbformat": 4,
 "nbformat_minor": 2
}
