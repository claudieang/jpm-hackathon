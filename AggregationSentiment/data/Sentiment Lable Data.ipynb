{
 "cells": [
  {
   "cell_type": "code",
   "execution_count": 1,
   "metadata": {},
   "outputs": [
    {
     "data": {
      "text/html": [
       "<div>\n",
       "<style>\n",
       "    .dataframe thead tr:only-child th {\n",
       "        text-align: right;\n",
       "    }\n",
       "\n",
       "    .dataframe thead th {\n",
       "        text-align: left;\n",
       "    }\n",
       "\n",
       "    .dataframe tbody tr th {\n",
       "        vertical-align: top;\n",
       "    }\n",
       "</style>\n",
       "<table border=\"1\" class=\"dataframe\">\n",
       "  <thead>\n",
       "    <tr style=\"text-align: right;\">\n",
       "      <th></th>\n",
       "      <th>username</th>\n",
       "      <th>date</th>\n",
       "      <th>retweets</th>\n",
       "      <th>favorites</th>\n",
       "      <th>text</th>\n",
       "      <th>0</th>\n",
       "    </tr>\n",
       "  </thead>\n",
       "  <tbody>\n",
       "    <tr>\n",
       "      <th>0</th>\n",
       "      <td>08_izaguirre</td>\n",
       "      <td>2017-08-12 07:58</td>\n",
       "      <td>0</td>\n",
       "      <td>0</td>\n",
       "      <td>este corazoncito que es solo tuyooooooooo mas ...</td>\n",
       "      <td>4</td>\n",
       "    </tr>\n",
       "    <tr>\n",
       "      <th>1</th>\n",
       "      <td>dailypoliticaln</td>\n",
       "      <td>2017-08-12 07:55</td>\n",
       "      <td>0</td>\n",
       "      <td>0</td>\n",
       "      <td>Keel Point LLC Boosts Position in J P Morgan C...</td>\n",
       "      <td>4</td>\n",
       "    </tr>\n",
       "    <tr>\n",
       "      <th>2</th>\n",
       "      <td>GodKingNobody</td>\n",
       "      <td>2017-08-12 07:55</td>\n",
       "      <td>0</td>\n",
       "      <td>0</td>\n",
       "      <td>LOL nan</td>\n",
       "      <td>0</td>\n",
       "    </tr>\n",
       "    <tr>\n",
       "      <th>3</th>\n",
       "      <td>GodKingNobody</td>\n",
       "      <td>2017-08-12 07:51</td>\n",
       "      <td>0</td>\n",
       "      <td>0</td>\n",
       "      <td>I'm still getting the distinct impression you ...</td>\n",
       "      <td>4</td>\n",
       "    </tr>\n",
       "    <tr>\n",
       "      <th>4</th>\n",
       "      <td>Yahwheat</td>\n",
       "      <td>2017-08-12 07:49</td>\n",
       "      <td>0</td>\n",
       "      <td>1</td>\n",
       "      <td>You really have a problem with answering hones...</td>\n",
       "      <td>4</td>\n",
       "    </tr>\n",
       "  </tbody>\n",
       "</table>\n",
       "</div>"
      ],
      "text/plain": [
       "          username              date  retweets  favorites  \\\n",
       "0     08_izaguirre  2017-08-12 07:58         0          0   \n",
       "1  dailypoliticaln  2017-08-12 07:55         0          0   \n",
       "2    GodKingNobody  2017-08-12 07:55         0          0   \n",
       "3    GodKingNobody  2017-08-12 07:51         0          0   \n",
       "4         Yahwheat  2017-08-12 07:49         0          1   \n",
       "\n",
       "                                                text  0  \n",
       "0  este corazoncito que es solo tuyooooooooo mas ...  4  \n",
       "1  Keel Point LLC Boosts Position in J P Morgan C...  4  \n",
       "2                                            LOL nan  0  \n",
       "3  I'm still getting the distinct impression you ...  4  \n",
       "4  You really have a problem with answering hones...  4  "
      ]
     },
     "execution_count": 1,
     "metadata": {},
     "output_type": "execute_result"
    }
   ],
   "source": [
    "import pandas as pd\n",
    "data = pd.read_csv(\"twitter1_output.csv\", encoding='utf-8', index_col=0)\n",
    "data.head()"
   ]
  }
 ],
 "metadata": {
  "kernelspec": {
   "display_name": "Python 3",
   "language": "python",
   "name": "python3"
  },
  "language_info": {
   "codemirror_mode": {
    "name": "ipython",
    "version": 3
   },
   "file_extension": ".py",
   "mimetype": "text/x-python",
   "name": "python",
   "nbconvert_exporter": "python",
   "pygments_lexer": "ipython3",
   "version": "3.6.2"
  }
 },
 "nbformat": 4,
 "nbformat_minor": 2
}
