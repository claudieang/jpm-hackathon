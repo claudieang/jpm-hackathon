{
 "cells": [
  {
   "cell_type": "code",
   "execution_count": 1,
   "metadata": {},
   "outputs": [
    {
     "name": "stdout",
     "output_type": "stream",
     "text": [
      "[*********************100%***********************]  1 of 1 downloaded\n"
     ]
    }
   ],
   "source": [
    "# -*- coding: utf-8 -*-\n",
    "\"\"\"\n",
    "Created on Mon Jun 24 21:26:33 2019\n",
    "\n",
    "@author: Jeremy Seow\n",
    "\"\"\"\n",
    "\n",
    "#import quandl\n",
    "import yfinance as yf\n",
    "from pandas_datareader import data as pdr\n",
    "\n",
    "# quandl free version doesnt give the latest data\n",
    "#mydata = quandl.get(\"EOD/JPM\", authtoken=\"ZbbyCDbCi5C26vNHwD87\")\n",
    "#data = mydata.iloc[:,:4]\n",
    "yf.pdr_override() \n",
    "stock_syms = [\"JPM\"]\n",
    "for sym in stock_syms:\n",
    "    data = pdr.get_data_yahoo(sym, start=\"2015-01-01\")\n",
    "    data.to_csv(sym + '_stock_data.csv')\n"
   ]
  },
  {
   "cell_type": "code",
   "execution_count": 2,
   "metadata": {
    "scrolled": true
   },
   "outputs": [],
   "source": [
    "import pandas as pd\n",
    "\n",
    "data = pd.read_csv('JPM_stock_data.csv', index_col=0)\n",
    "data.index = pd.to_datetime(data.index)"
   ]
  },
  {
   "cell_type": "code",
   "execution_count": 3,
   "metadata": {},
   "outputs": [
    {
     "data": {
      "text/html": [
       "<div>\n",
       "<style scoped>\n",
       "    .dataframe tbody tr th:only-of-type {\n",
       "        vertical-align: middle;\n",
       "    }\n",
       "\n",
       "    .dataframe tbody tr th {\n",
       "        vertical-align: top;\n",
       "    }\n",
       "\n",
       "    .dataframe thead th {\n",
       "        text-align: right;\n",
       "    }\n",
       "</style>\n",
       "<table border=\"1\" class=\"dataframe\">\n",
       "  <thead>\n",
       "    <tr style=\"text-align: right;\">\n",
       "      <th></th>\n",
       "      <th>Close</th>\n",
       "      <th>Diff</th>\n",
       "    </tr>\n",
       "    <tr>\n",
       "      <th>Date</th>\n",
       "      <th></th>\n",
       "      <th></th>\n",
       "    </tr>\n",
       "  </thead>\n",
       "  <tbody>\n",
       "    <tr>\n",
       "      <th>2014-12-31</th>\n",
       "      <td>62.58</td>\n",
       "      <td>NaN</td>\n",
       "    </tr>\n",
       "    <tr>\n",
       "      <th>2015-01-02</th>\n",
       "      <td>62.49</td>\n",
       "      <td>-0.09</td>\n",
       "    </tr>\n",
       "    <tr>\n",
       "      <th>2015-01-05</th>\n",
       "      <td>60.55</td>\n",
       "      <td>-1.94</td>\n",
       "    </tr>\n",
       "    <tr>\n",
       "      <th>2015-01-06</th>\n",
       "      <td>58.98</td>\n",
       "      <td>-1.57</td>\n",
       "    </tr>\n",
       "    <tr>\n",
       "      <th>2015-01-07</th>\n",
       "      <td>59.07</td>\n",
       "      <td>0.09</td>\n",
       "    </tr>\n",
       "  </tbody>\n",
       "</table>\n",
       "</div>"
      ],
      "text/plain": [
       "            Close  Diff\n",
       "Date                   \n",
       "2014-12-31  62.58   NaN\n",
       "2015-01-02  62.49 -0.09\n",
       "2015-01-05  60.55 -1.94\n",
       "2015-01-06  58.98 -1.57\n",
       "2015-01-07  59.07  0.09"
      ]
     },
     "execution_count": 3,
     "metadata": {},
     "output_type": "execute_result"
    }
   ],
   "source": [
    "# Get daily price difference\n",
    "data['Diff'] = data.Close - data.Close.shift(1)\n",
    "data[['Close', 'Diff']].to_csv('JPM_daily_stock.csv', header=['Close', 'PriceDiff'])\n",
    "data[['Close', 'Diff']].head()"
   ]
  },
  {
   "cell_type": "code",
   "execution_count": 4,
   "metadata": {},
   "outputs": [
    {
     "name": "stderr",
     "output_type": "stream",
     "text": [
      "c:\\users\\jessi\\appdata\\local\\programs\\python\\python36-32\\lib\\site-packages\\ipykernel_launcher.py:2: FutureWarning: using a dict with renaming is deprecated and will be removed in a future version\n",
      "  \n"
     ]
    },
    {
     "data": {
      "text/html": [
       "<div>\n",
       "<style scoped>\n",
       "    .dataframe tbody tr th:only-of-type {\n",
       "        vertical-align: middle;\n",
       "    }\n",
       "\n",
       "    .dataframe tbody tr th {\n",
       "        vertical-align: top;\n",
       "    }\n",
       "\n",
       "    .dataframe thead th {\n",
       "        text-align: right;\n",
       "    }\n",
       "</style>\n",
       "<table border=\"1\" class=\"dataframe\">\n",
       "  <thead>\n",
       "    <tr style=\"text-align: right;\">\n",
       "      <th></th>\n",
       "      <th>Mean</th>\n",
       "      <th>Min</th>\n",
       "      <th>Max</th>\n",
       "      <th>Meandiff</th>\n",
       "      <th>Mindiff</th>\n",
       "      <th>Maxdiff</th>\n",
       "    </tr>\n",
       "    <tr>\n",
       "      <th>Date</th>\n",
       "      <th></th>\n",
       "      <th></th>\n",
       "      <th></th>\n",
       "      <th></th>\n",
       "      <th></th>\n",
       "      <th></th>\n",
       "    </tr>\n",
       "  </thead>\n",
       "  <tbody>\n",
       "    <tr>\n",
       "      <th>2015-01-04</th>\n",
       "      <td>62.5350</td>\n",
       "      <td>62.49</td>\n",
       "      <td>62.58</td>\n",
       "      <td>NaN</td>\n",
       "      <td>NaN</td>\n",
       "      <td>NaN</td>\n",
       "    </tr>\n",
       "    <tr>\n",
       "      <th>2015-01-11</th>\n",
       "      <td>59.6660</td>\n",
       "      <td>58.98</td>\n",
       "      <td>60.55</td>\n",
       "      <td>-0.045878</td>\n",
       "      <td>-0.056169</td>\n",
       "      <td>-0.032438</td>\n",
       "    </tr>\n",
       "    <tr>\n",
       "      <th>2015-01-18</th>\n",
       "      <td>57.0800</td>\n",
       "      <td>54.99</td>\n",
       "      <td>58.84</td>\n",
       "      <td>-0.043341</td>\n",
       "      <td>-0.067650</td>\n",
       "      <td>-0.028241</td>\n",
       "    </tr>\n",
       "    <tr>\n",
       "      <th>2015-01-25</th>\n",
       "      <td>56.4675</td>\n",
       "      <td>55.71</td>\n",
       "      <td>57.59</td>\n",
       "      <td>-0.010731</td>\n",
       "      <td>0.013093</td>\n",
       "      <td>-0.021244</td>\n",
       "    </tr>\n",
       "    <tr>\n",
       "      <th>2015-02-01</th>\n",
       "      <td>55.5540</td>\n",
       "      <td>54.38</td>\n",
       "      <td>56.77</td>\n",
       "      <td>-0.016177</td>\n",
       "      <td>-0.023874</td>\n",
       "      <td>-0.014239</td>\n",
       "    </tr>\n",
       "  </tbody>\n",
       "</table>\n",
       "</div>"
      ],
      "text/plain": [
       "               Mean    Min    Max  Meandiff   Mindiff   Maxdiff\n",
       "Date                                                           \n",
       "2015-01-04  62.5350  62.49  62.58       NaN       NaN       NaN\n",
       "2015-01-11  59.6660  58.98  60.55 -0.045878 -0.056169 -0.032438\n",
       "2015-01-18  57.0800  54.99  58.84 -0.043341 -0.067650 -0.028241\n",
       "2015-01-25  56.4675  55.71  57.59 -0.010731  0.013093 -0.021244\n",
       "2015-02-01  55.5540  54.38  56.77 -0.016177 -0.023874 -0.014239"
      ]
     },
     "execution_count": 4,
     "metadata": {},
     "output_type": "execute_result"
    }
   ],
   "source": [
    "# Get weekly price difference\n",
    "agg_data = data[['Close']].resample('1w').agg({'Mean':'mean','Min':'min','Max':'max'})\n",
    "agg_data.columns = agg_data.columns.get_level_values(0)\n",
    "\n",
    "agg_data_diff = agg_data.pct_change()\n",
    "agg_data.pct_change()\n",
    "\n",
    "agg_data.join(agg_data_diff, rsuffix='diff').to_csv('JPM_weekly_stock.csv')\n",
    "agg_data.join(agg_data_diff, rsuffix='diff').head()"
   ]
  }
 ],
 "metadata": {
  "kernelspec": {
   "display_name": "Python 3",
   "language": "python",
   "name": "python3"
  },
  "language_info": {
   "codemirror_mode": {
    "name": "ipython",
    "version": 3
   },
   "file_extension": ".py",
   "mimetype": "text/x-python",
   "name": "python",
   "nbconvert_exporter": "python",
   "pygments_lexer": "ipython3",
   "version": "3.6.4"
  }
 },
 "nbformat": 4,
 "nbformat_minor": 2
}
