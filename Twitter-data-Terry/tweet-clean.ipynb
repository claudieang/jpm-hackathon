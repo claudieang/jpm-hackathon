{
 "cells": [
  {
   "cell_type": "code",
   "execution_count": 1,
   "metadata": {},
   "outputs": [
    {
     "name": "stderr",
     "output_type": "stream",
     "text": [
      "/anaconda/lib/python3.6/site-packages/IPython/core/interactiveshell.py:2728: DtypeWarning: Columns (12,13,14) have mixed types. Specify dtype option on import or set low_memory=False.\n",
      "  interactivity=interactivity, compiler=compiler, result=result)\n"
     ]
    }
   ],
   "source": [
    "import pandas as pd\n",
    "\n",
    "data = pd.read_csv(\"jpm-12Aug17-2015.csv\",sep = ',',encoding=\"utf-8\", error_bad_lines=False)\n",
    "# data\n",
    "data[\"combine\"] =data[\"geo\"] + \" \" + data[\"mentions\"] + \" \" + data[\"hashtag\"]+ \" \" + data[\"Unnamed: 8\"]+ \" \" + data[\"Unnamed: 9\"]+ \" \" + data[\"Unnamed: 10\"] + \" \" + data[\"Unnamed: 11\"] + \" \" + data[\"Unnamed: 12\"] + \" \" + data[\"Unnamed: 13\"]+ \" \" + data[\"Unnamed: 14\"]\n",
    "data.drop(['geo', 'mentions', 'hashtag','Unnamed: 8', 'Unnamed: 9', 'Unnamed: 10','Unnamed: 11','Unnamed: 12','Unnamed: 13','Unnamed: 14',], axis=1, inplace=True)\n",
    "data[\"text\"] = data[\"text\"].map(str) + \" \" + data[\"combine\"].map(str)\n",
    "del data[\"combine\"]\n",
    "tmp = data[~data['username'].str.lower().str.contains('jpm')]\n",
    "tmp.to_csv(\"jpm-12Aug17-2015-clean.csv\",encoding='utf-8-sig',index=False)\n",
    "\n",
    "\n"
   ]
  },
  {
   "cell_type": "code",
   "execution_count": 3,
   "metadata": {},
   "outputs": [
    {
     "name": "stderr",
     "output_type": "stream",
     "text": [
      "/anaconda/lib/python3.6/site-packages/IPython/core/interactiveshell.py:2728: DtypeWarning: Columns (10,11,12,13,14,15,16,17,18,19,20) have mixed types. Specify dtype option on import or set low_memory=False.\n",
      "  interactivity=interactivity, compiler=compiler, result=result)\n"
     ]
    }
   ],
   "source": [
    "\n",
    "data = pd.read_csv(\"jpm-today-12Aug17.csv\",sep = ',',encoding=\"utf-8\", error_bad_lines=False)\n",
    "# data\n",
    "data[\"combine\"] =data[\"geo\"].map(str) + \" \" + data[\"mentions\"].map(str) + \" \" + data[\"hashtag\"].map(str)+ \" \" + data[\"Unnamed: 8\"].map(str)+ \" \" + data[\"Unnamed: 9\"].map(str)+ \" \" + data[\"Unnamed: 10\"].map(str) + \" \" + data[\"Unnamed: 11\"].map(str) + \" \" + data[\"Unnamed: 12\"].map(str) + \" \" + data[\"Unnamed: 13\"].map(str)+ \" \" + data[\"Unnamed: 14\"].map(str)\n",
    "data.drop(['geo', 'mentions', 'hashtag','Unnamed: 8', 'Unnamed: 9', 'Unnamed: 10','Unnamed: 11','Unnamed: 12','Unnamed: 13','Unnamed: 14',], axis=1, inplace=True)\n",
    "data[\"text\"] = data[\"text\"].map(str) + \" \" + data[\"combine\"].map(str)\n",
    "del data[\"combine\"]\n",
    "tmp = data[~data['username'].str.lower().str.contains('jpm')]\n",
    "tmp.to_csv(\"today-12Aug17-clean.csv\",encoding='utf-8-sig',index=False)"
   ]
  },
  {
   "cell_type": "code",
   "execution_count": null,
   "metadata": {},
   "outputs": [],
   "source": [
    "data = pd.read_csv(\"today-12Aug17-clean.csv\",sep = ',',encoding=\"utf-8\", error_bad_lines=False)\n"
   ]
  },
  {
   "cell_type": "code",
   "execution_count": null,
   "metadata": {},
   "outputs": [],
   "source": [
    "data.head()"
   ]
  },
  {
   "cell_type": "code",
   "execution_count": null,
   "metadata": {},
   "outputs": [],
   "source": []
  },
  {
   "cell_type": "code",
   "execution_count": null,
   "metadata": {},
   "outputs": [],
   "source": [
    "# data.dropna()\n"
   ]
  },
  {
   "cell_type": "code",
   "execution_count": null,
   "metadata": {},
   "outputs": [],
   "source": []
  },
  {
   "cell_type": "code",
   "execution_count": null,
   "metadata": {},
   "outputs": [],
   "source": []
  }
 ],
 "metadata": {
  "kernelspec": {
   "display_name": "Python 3",
   "language": "python",
   "name": "python3"
  },
  "language_info": {
   "codemirror_mode": {
    "name": "ipython",
    "version": 3
   },
   "file_extension": ".py",
   "mimetype": "text/x-python",
   "name": "python",
   "nbconvert_exporter": "python",
   "pygments_lexer": "ipython3",
   "version": "3.6.4"
  }
 },
 "nbformat": 4,
 "nbformat_minor": 2
}
